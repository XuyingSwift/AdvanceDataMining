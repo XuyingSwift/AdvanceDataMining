{
 "cells": [
  {
   "cell_type": "code",
   "execution_count": 1,
   "id": "5b93f8d6-ff1a-4b61-93ab-4e99b88ae30d",
   "metadata": {},
   "outputs": [
    {
     "name": "stdout",
     "output_type": "stream",
     "text": [
      "The volume of the sphere is:  904.7786842338603\n"
     ]
    }
   ],
   "source": [
    "pi = 3.1415926535897931\n",
    "r= 6.0\n",
    "V= 4.0/3.0*pi* r**3\n",
    "print('The volume of the sphere is: ',V)"
   ]
  },
  {
   "cell_type": "code",
   "execution_count": 2,
   "id": "4d64a4e3-7891-4afa-b889-49422981e1af",
   "metadata": {},
   "outputs": [],
   "source": [
    "# This tutorial will use Monte Carlo methods to calculate the volume of an\n",
    "# n-dimensional sphere.\n",
    "import numpy as np\n",
    "import matplotlib.pyplot as plt"
   ]
  },
  {
   "cell_type": "code",
   "execution_count": 3,
   "id": "4d4ca79e-0512-42c8-9b89-2edc609f1e42",
   "metadata": {},
   "outputs": [
    {
     "data": {
      "text/plain": [
       "0.9729892392158318"
      ]
     },
     "execution_count": 3,
     "metadata": {},
     "output_type": "execute_result"
    }
   ],
   "source": [
    "# In all Monte Carlo simulations it is necessary to generate random or\n",
    "# pseudo-random numbers.  The Python command 'np.random.uniform()'\n",
    "# from the NumPy module generates random numbers uniformly distributed \n",
    "# between zero and one. \n",
    "np.random.uniform()"
   ]
  },
  {
   "cell_type": "code",
   "execution_count": null,
   "id": "4453686b-1508-4fde-bdd3-bf4320337b3b",
   "metadata": {},
   "outputs": [],
   "source": [
    "# We'll start with the trivial example of a 1-D sphere.  In 1-D, x1^2<R^2\n",
    "# simply translates to -R < x1 < +R.  Throughout this tutorial will restrict\n",
    "# ourselve to the positive quadrant.  That is, we'll generate random  values\n",
    "# of x1 between [0, R] (where R = 1 in this tutorial).  The 1-D sphere is\n",
    "# trivial because ALL of the randomly generated numbers will fall within\n",
    "# the sphere.  The volume of the 1-D sphere is just the length of the line.\n",
    "#  V1D = 2R.\n",
    "\n",
    "d = 1 # The number of dimensions\n",
    "n = int(1e5) # The number of Monte Carlo trials\n",
    "Zn = 0\n",
    "for i in range(n):\n",
    "    x1 = np.random.uniform()\n",
    "    R = np.sqrt(x1**2) # Calculate distance from the orgin\n",
    "    if R <= 1: # Check for a hit\n",
    "        Zn += 1 # If there's a hit increment Zn\n",
    "V1D = 2**d*Zn/n # The Monte Carlo calculation of the sphere volume\n",
    "V1Dexact = 2 # The known value of the volume of the sphere\n",
    "ratio = V1D/V1Dexact # Compare the calculated volume to the known volume\n",
    "print('The volume of a', d, 'D sphere from the Monte Carlo simulation is', V1D)\n",
    "print('The exact volume is', V1Dexact, 'and the ratio of the two is', V1D/V1Dexact)"
   ]
  }
 ],
 "metadata": {
  "kernelspec": {
   "display_name": "Python 3 (ipykernel)",
   "language": "python",
   "name": "python3"
  },
  "language_info": {
   "codemirror_mode": {
    "name": "ipython",
    "version": 3
   },
   "file_extension": ".py",
   "mimetype": "text/x-python",
   "name": "python",
   "nbconvert_exporter": "python",
   "pygments_lexer": "ipython3",
   "version": "3.11.5"
  }
 },
 "nbformat": 4,
 "nbformat_minor": 5
}
