{
 "cells": [
  {
   "cell_type": "code",
   "execution_count": 1,
   "id": "fce32257-5655-4a91-ae3c-691696a7e68f",
   "metadata": {},
   "outputs": [],
   "source": [
    "# epsilon - the maximum distance a point can be from another point to be consider a neighbor\n",
    "# min_points - the amount of points needed within the range of epsilon to be considered a cluster\n",
    "\n",
    "### Beneifts of DBSCAN:\n",
    "# it requires minimal domain knowledge to determine the input parameters\n",
    "# it discovers clusters of any shape\n",
    "# it works best when the clusters are of the same density, it makes hard when clusters of varying density. \n",
    "\n",
    "### Noise - This is a point that does not have enough neighbors within epsilon to be part of a cluster (including itself).\n",
    "### Border Points: this is a point that has neighbors within epsilon but not enough neighbors to be a core point. these points make up the edge of cluster.\n",
    "### Core Points: points that have the min points required within epsilon. these points along with border points will form a cluster.\n"
   ]
  },
  {
   "cell_type": "code",
   "execution_count": 2,
   "id": "c1ac3317-009a-4f8e-8335-3eb3cbfbcf4b",
   "metadata": {},
   "outputs": [],
   "source": [
    "#### Algorithm\n",
    "# Step 1: choose any point p randomly\n",
    "# Step 2: identify all density reachable points from p with epsilon and minPts parameter.\n",
    "# Step 3: if p is a core point, create a cluster ( with epsilon and minPts)\n",
    "# Step 4: if p is a boarder point, visit the next point in the dataset\n",
    "# Step 5: Continue the algorithm until all points are visited"
   ]
  },
  {
   "cell_type": "code",
   "execution_count": 26,
   "id": "edc014cf-dbec-47b8-9c59-2cf4b1461474",
   "metadata": {},
   "outputs": [],
   "source": [
    "import numpy as np\n",
    "import pandas as pd\n",
    "import matplotlib.pyplot as plt\n",
    "from sklearn.datasets import load_iris, make_blobs\n",
    "import random as rand\n",
    "from sklearn.preprocessing import StandardScaler"
   ]
  },
  {
   "cell_type": "code",
   "execution_count": 27,
   "id": "1423b274-d367-4cef-b726-067b9c0f3e3f",
   "metadata": {},
   "outputs": [],
   "source": [
    "iris_data = load_iris()"
   ]
  },
  {
   "cell_type": "code",
   "execution_count": 30,
   "id": "71c4a7a3-32ac-4232-a360-dacaeeccab7e",
   "metadata": {},
   "outputs": [],
   "source": [
    "df = pd.DataFrame(data=iris_data.data, \n",
    "                  columns=iris_data.feature_names)\n",
    "\n",
    "data_list = df.values.tolist()"
   ]
  },
  {
   "cell_type": "code",
   "execution_count": 31,
   "id": "f82c4cb1-a38b-4c69-8909-8f769eeadb86",
   "metadata": {},
   "outputs": [],
   "source": [
    "# it starts with a random unvisted starting data point. all points within a distance epsilon classify as neighborhood points\n",
    "def find_neighborhood_points(data, epsilon, rand_idx):\n",
    "    neighbors = []\n",
    "    # rand_idx = rand.randint(0, len(data)-1)\n",
    "    for i in range(len(data)):\n",
    "        dist = np.linalg.norm(np.array(data[rand_idx]) - np.array(data[i]))\n",
    "        if dist <= epsilon:\n",
    "            neighbors.append(data[i])\n",
    "    return neighbors   "
   ]
  },
  {
   "cell_type": "code",
   "execution_count": 32,
   "id": "3c1e6a26-27e8-4e25-a15f-6298533cb4c9",
   "metadata": {},
   "outputs": [],
   "source": [
    "# you need a minimum number of points within neighborhood to start the clustering proccess.\n",
    "# under such circumstances, the current data point becomes first point in the cluster. otherwise,\n",
    "# the point get labeled as Noise. in either cases, the current point becomes a visited point. \n",
    "def clustering(data, point, epsilon, minPts, neighborPts, cluster, clusters):\n",
    "    # assign a cluster to a random point\n",
    "    clusters[point] = cluster\n",
    "    # go through each point in the neighborhood, \n",
    "    i = 0\n",
    "    while i < len(neighborPts):\n",
    "        neiPt = neighborPts[i]\n",
    "        # if neiPt was labeled as noise.  \n",
    "        if clusters[neiPt] == -1:\n",
    "            clusters[neiPt] = cluster\n",
    "        elif clusters[neiPt] == 0:\n",
    "            clusters[neiPt] = cluster \n",
    "            neiPts = find_neigborhood_points(data, point, epsilon)\n",
    "            # if point has at least minPts, it is a clusting point,\n",
    "            if len(neipts) >= minPts:\n",
    "                neighborPts = neighborPts + neiPts\n",
    "        i += 1"
   ]
  },
  {
   "cell_type": "code",
   "execution_count": 54,
   "id": "0f8c7b34-49ad-4be2-b6b4-261fdfe31d19",
   "metadata": {},
   "outputs": [],
   "source": [
    "def dbscan(data, epsilon, minPts):\n",
    " \n",
    "    clusters = [0]*len(data)\n",
    "    cluster = 0 # is the ID of current cluster\n",
    "    \n",
    "    for i in range(0, len(data)):\n",
    "        # check this current point is visisted or not\n",
    "        if clusters[i] != 0:\n",
    "            continue\n",
    "        neighbors = find_neighborhood_points(data, epsilon, i)\n",
    "        # you need a minimum number of points within neighborhood to start the clustering proccess.\n",
    "        if len(neighbors) < minPts:\n",
    "            cluster[i] = -1\n",
    "        else:\n",
    "            cluster += 1\n",
    "            clustering(data, i, epsilon, minPts, neighbors, cluster, clusters)\n",
    "    return clusters\n"
   ]
  },
  {
   "cell_type": "code",
   "execution_count": 55,
   "id": "7310f050-de8b-4f6c-a0ad-72e8712a944f",
   "metadata": {},
   "outputs": [],
   "source": [
    "centers = [[1,1],[-1,-1], [1,-1]]\n",
    "X, labels_true = make_blobs(n_samples=750, centers=centers, cluster_std=0.4, random_state=0)"
   ]
  },
  {
   "cell_type": "code",
   "execution_count": 56,
   "id": "43dc942e-ebee-49ed-8802-c90861af187d",
   "metadata": {},
   "outputs": [
    {
     "ename": "TypeError",
     "evalue": "only integer scalar arrays can be converted to a scalar index",
     "output_type": "error",
     "traceback": [
      "\u001b[0;31m---------------------------------------------------------------------------\u001b[0m",
      "\u001b[0;31mTypeError\u001b[0m                                 Traceback (most recent call last)",
      "Cell \u001b[0;32mIn[56], line 2\u001b[0m\n\u001b[1;32m      1\u001b[0m X \u001b[38;5;241m=\u001b[39m StandardScaler()\u001b[38;5;241m.\u001b[39mfit_transform(X)\n\u001b[0;32m----> 2\u001b[0m \u001b[43mdbscan\u001b[49m\u001b[43m(\u001b[49m\u001b[43mX\u001b[49m\u001b[43m,\u001b[49m\u001b[43m \u001b[49m\u001b[38;5;241;43m0.3\u001b[39;49m\u001b[43m,\u001b[49m\u001b[43m \u001b[49m\u001b[38;5;241;43m10\u001b[39;49m\u001b[43m)\u001b[49m\n",
      "Cell \u001b[0;32mIn[54], line 16\u001b[0m, in \u001b[0;36mdbscan\u001b[0;34m(data, epsilon, minPts)\u001b[0m\n\u001b[1;32m     14\u001b[0m     \u001b[38;5;28;01melse\u001b[39;00m:\n\u001b[1;32m     15\u001b[0m         cluster \u001b[38;5;241m+\u001b[39m\u001b[38;5;241m=\u001b[39m \u001b[38;5;241m1\u001b[39m\n\u001b[0;32m---> 16\u001b[0m         \u001b[43mclustering\u001b[49m\u001b[43m(\u001b[49m\u001b[43mdata\u001b[49m\u001b[43m,\u001b[49m\u001b[43m \u001b[49m\u001b[43mi\u001b[49m\u001b[43m,\u001b[49m\u001b[43m \u001b[49m\u001b[43mepsilon\u001b[49m\u001b[43m,\u001b[49m\u001b[43m \u001b[49m\u001b[43mminPts\u001b[49m\u001b[43m,\u001b[49m\u001b[43m \u001b[49m\u001b[43mneighbors\u001b[49m\u001b[43m,\u001b[49m\u001b[43m \u001b[49m\u001b[43mcluster\u001b[49m\u001b[43m,\u001b[49m\u001b[43m \u001b[49m\u001b[43mclusters\u001b[49m\u001b[43m)\u001b[49m\n\u001b[1;32m     17\u001b[0m \u001b[38;5;28;01mreturn\u001b[39;00m clusters\n",
      "Cell \u001b[0;32mIn[32], line 12\u001b[0m, in \u001b[0;36mclustering\u001b[0;34m(data, point, epsilon, minPts, neighborPts, cluster, clusters)\u001b[0m\n\u001b[1;32m     10\u001b[0m neiPt \u001b[38;5;241m=\u001b[39m neighborPts[i]\n\u001b[1;32m     11\u001b[0m \u001b[38;5;66;03m# if neiPt was labeled as noise.  \u001b[39;00m\n\u001b[0;32m---> 12\u001b[0m \u001b[38;5;28;01mif\u001b[39;00m \u001b[43mclusters\u001b[49m\u001b[43m[\u001b[49m\u001b[43mneiPt\u001b[49m\u001b[43m]\u001b[49m \u001b[38;5;241m==\u001b[39m \u001b[38;5;241m-\u001b[39m\u001b[38;5;241m1\u001b[39m:\n\u001b[1;32m     13\u001b[0m     clusters[neiPt] \u001b[38;5;241m=\u001b[39m cluster\n\u001b[1;32m     14\u001b[0m \u001b[38;5;28;01melif\u001b[39;00m clusters[neiPt] \u001b[38;5;241m==\u001b[39m \u001b[38;5;241m0\u001b[39m:\n",
      "\u001b[0;31mTypeError\u001b[0m: only integer scalar arrays can be converted to a scalar index"
     ]
    }
   ],
   "source": [
    "X = StandardScaler().fit_transform(X)\n",
    "dbscan(X, 0.3, 10)"
   ]
  },
  {
   "cell_type": "code",
   "execution_count": null,
   "id": "fb70dfee-43c5-4e2d-8fff-5aca269ff602",
   "metadata": {},
   "outputs": [],
   "source": []
  },
  {
   "cell_type": "code",
   "execution_count": null,
   "id": "1d443e4b-93af-4403-9f64-28cf2bbc2f8f",
   "metadata": {},
   "outputs": [],
   "source": []
  }
 ],
 "metadata": {
  "kernelspec": {
   "display_name": "Python 3 (ipykernel)",
   "language": "python",
   "name": "python3"
  },
  "language_info": {
   "codemirror_mode": {
    "name": "ipython",
    "version": 3
   },
   "file_extension": ".py",
   "mimetype": "text/x-python",
   "name": "python",
   "nbconvert_exporter": "python",
   "pygments_lexer": "ipython3",
   "version": "3.11.5"
  }
 },
 "nbformat": 4,
 "nbformat_minor": 5
}
