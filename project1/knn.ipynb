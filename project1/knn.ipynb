{
 "cells": [
  {
   "cell_type": "code",
   "execution_count": 1,
   "id": "6769afcf-b266-4f1f-9214-7527e548a6eb",
   "metadata": {},
   "outputs": [],
   "source": [
    "import numpy as np\n",
    "import pandas as pd\n",
    "from sklearn.datasets import load_iris\n",
    "import random as rand"
   ]
  },
  {
   "cell_type": "code",
   "execution_count": 2,
   "id": "8970870b-d7c3-4dc6-9cf4-ac33e330b509",
   "metadata": {},
   "outputs": [],
   "source": [
    "iris_data = load_iris()"
   ]
  },
  {
   "cell_type": "code",
   "execution_count": 3,
   "id": "67a90edd-944c-43cd-bf87-80bb26aa9fe1",
   "metadata": {},
   "outputs": [],
   "source": [
    "# PLACE THE IRIS DATA IN A PANDAS\n",
    "# DATAFRAME\n",
    "df = pd.DataFrame(data=iris_data.data, \n",
    "                  columns=iris_data.feature_names)\n",
    "df['target'] = pd.Series(iris_data.target)"
   ]
  },
  {
   "cell_type": "code",
   "execution_count": 4,
   "id": "d6ec5c71-53b0-4c55-9f40-6a14898f3fa7",
   "metadata": {},
   "outputs": [
    {
     "data": {
      "text/html": [
       "<div>\n",
       "<style scoped>\n",
       "    .dataframe tbody tr th:only-of-type {\n",
       "        vertical-align: middle;\n",
       "    }\n",
       "\n",
       "    .dataframe tbody tr th {\n",
       "        vertical-align: top;\n",
       "    }\n",
       "\n",
       "    .dataframe thead th {\n",
       "        text-align: right;\n",
       "    }\n",
       "</style>\n",
       "<table border=\"1\" class=\"dataframe\">\n",
       "  <thead>\n",
       "    <tr style=\"text-align: right;\">\n",
       "      <th></th>\n",
       "      <th>sepal length (cm)</th>\n",
       "      <th>sepal width (cm)</th>\n",
       "      <th>petal length (cm)</th>\n",
       "      <th>petal width (cm)</th>\n",
       "      <th>target</th>\n",
       "    </tr>\n",
       "  </thead>\n",
       "  <tbody>\n",
       "    <tr>\n",
       "      <th>0</th>\n",
       "      <td>5.1</td>\n",
       "      <td>3.5</td>\n",
       "      <td>1.4</td>\n",
       "      <td>0.2</td>\n",
       "      <td>0</td>\n",
       "    </tr>\n",
       "    <tr>\n",
       "      <th>1</th>\n",
       "      <td>4.9</td>\n",
       "      <td>3.0</td>\n",
       "      <td>1.4</td>\n",
       "      <td>0.2</td>\n",
       "      <td>0</td>\n",
       "    </tr>\n",
       "    <tr>\n",
       "      <th>2</th>\n",
       "      <td>4.7</td>\n",
       "      <td>3.2</td>\n",
       "      <td>1.3</td>\n",
       "      <td>0.2</td>\n",
       "      <td>0</td>\n",
       "    </tr>\n",
       "    <tr>\n",
       "      <th>3</th>\n",
       "      <td>4.6</td>\n",
       "      <td>3.1</td>\n",
       "      <td>1.5</td>\n",
       "      <td>0.2</td>\n",
       "      <td>0</td>\n",
       "    </tr>\n",
       "    <tr>\n",
       "      <th>4</th>\n",
       "      <td>5.0</td>\n",
       "      <td>3.6</td>\n",
       "      <td>1.4</td>\n",
       "      <td>0.2</td>\n",
       "      <td>0</td>\n",
       "    </tr>\n",
       "  </tbody>\n",
       "</table>\n",
       "</div>"
      ],
      "text/plain": [
       "   sepal length (cm)  sepal width (cm)  petal length (cm)  petal width (cm)  \\\n",
       "0                5.1               3.5                1.4               0.2   \n",
       "1                4.9               3.0                1.4               0.2   \n",
       "2                4.7               3.2                1.3               0.2   \n",
       "3                4.6               3.1                1.5               0.2   \n",
       "4                5.0               3.6                1.4               0.2   \n",
       "\n",
       "   target  \n",
       "0       0  \n",
       "1       0  \n",
       "2       0  \n",
       "3       0  \n",
       "4       0  "
      ]
     },
     "execution_count": 4,
     "metadata": {},
     "output_type": "execute_result"
    }
   ],
   "source": [
    "df.head()"
   ]
  },
  {
   "cell_type": "code",
   "execution_count": 5,
   "id": "fad4ec43-741a-45f8-ba50-02789e63effa",
   "metadata": {},
   "outputs": [
    {
     "data": {
      "text/plain": [
       "['sepal length (cm)',\n",
       " 'sepal width (cm)',\n",
       " 'petal length (cm)',\n",
       " 'petal width (cm)']"
      ]
     },
     "execution_count": 5,
     "metadata": {},
     "output_type": "execute_result"
    }
   ],
   "source": [
    "iris_data.feature_names"
   ]
  },
  {
   "cell_type": "code",
   "execution_count": 6,
   "id": "8fc1587f-5a86-4138-9bf2-877562045bd2",
   "metadata": {},
   "outputs": [],
   "source": [
    "points = df.drop(columns='target').values.tolist()"
   ]
  },
  {
   "cell_type": "code",
   "execution_count": 7,
   "id": "0f72024b-771a-492d-b2d9-513f24a26648",
   "metadata": {},
   "outputs": [],
   "source": [
    "# initialization function\n",
    "# Place k centroids at a random location\n",
    "def place_centroids(points, k):\n",
    "    # List to keep track of centroids\n",
    "    centroids = []\n",
    "    # Place K centroids in random locations\n",
    "    # each point is a vector of 4 features\n",
    "    for i in range(k):\n",
    "        centroid = points[rand.randint(0, 149)]\n",
    "        centroids.append(centroid)\n",
    "    return centroids\n",
    "    \n",
    "    "
   ]
  },
  {
   "cell_type": "code",
   "execution_count": 8,
   "id": "24b73fab-54b4-4dbe-964b-155424f516cd",
   "metadata": {},
   "outputs": [],
   "source": [
    "centroids = place_centroids(points, 3)"
   ]
  },
  {
   "cell_type": "code",
   "execution_count": 9,
   "id": "5a5cd327-0655-4b70-a96c-f26c7b8ae591",
   "metadata": {},
   "outputs": [],
   "source": [
    "# assign the centroids to all points \n",
    "def assign_cetroids(points, centroids):\n",
    "    assignments = []\n",
    "    for dpoint in points:\n",
    "        # define a data point to a centroid's distnace \n",
    "        dpoint_centroid_distance = []\n",
    "        for centroid in centroids:\n",
    "            dc = np.linalg.norm(np.array(dpoint) - np.array(centroid))\n",
    "            dpoint_centroid_distance.append(dc)\n",
    "        # find the nearest centroid to that point\n",
    "        nearest_distance = np.argmin(dpoint_centroid_distance)\n",
    "        assignments.append(nearest_distance)\n",
    "    return assignments\n",
    "        "
   ]
  },
  {
   "cell_type": "code",
   "execution_count": 10,
   "id": "580c60dc-698a-45c0-b494-8604665e7637",
   "metadata": {},
   "outputs": [],
   "source": [
    "assignments = assign_cetroids(points, centroids)"
   ]
  },
  {
   "cell_type": "code",
   "execution_count": 11,
   "id": "990fe11f-1459-452e-b556-394f1106cd71",
   "metadata": {},
   "outputs": [],
   "source": [
    "# Update and compute new centroids\n",
    "def update_centroids(points, centroids, assignments, k):\n",
    "    new_centroids = []\n",
    "    for cluster in range(k):\n",
    "        point_cluster = []\n",
    "        for i in range(len(points)):\n",
    "            if assignments[i] == cluster:\n",
    "                point_cluster.append(points[i])\n",
    "        mean_c = np.mean(point_cluster, axis=0)\n",
    "        new_centroids.append(mean_c)\n",
    "    return new_centroids"
   ]
  },
  {
   "cell_type": "code",
   "execution_count": 12,
   "id": "b0e6a6e4-7264-46f0-a404-03264db61edb",
   "metadata": {},
   "outputs": [],
   "source": [
    "new_centroids = update_centroids(points, centroids, assignments, 3)"
   ]
  },
  {
   "cell_type": "code",
   "execution_count": 13,
   "id": "8fa046b0-cfd4-4404-b04a-f7ea3d68ca77",
   "metadata": {},
   "outputs": [
    {
     "data": {
      "text/plain": [
       "[array([6.5       , 2.825     , 4.79285714, 1.60714286]),\n",
       " array([5.46168224, 3.11308411, 3.14485981, 0.97102804]),\n",
       " array([7.34      , 3.09333333, 6.2       , 2.06666667])]"
      ]
     },
     "execution_count": 13,
     "metadata": {},
     "output_type": "execute_result"
    }
   ],
   "source": [
    "new_centroids"
   ]
  },
  {
   "cell_type": "code",
   "execution_count": 14,
   "id": "0a1437c4-73f3-4dd4-be1e-63b72879951a",
   "metadata": {},
   "outputs": [],
   "source": [
    "# minimize the objective function\n",
    "# to minimize the within-cluster sum of squared error\n",
    "def cal_sse(points, assignments, centroids):\n",
    "    errors = []\n",
    "    for i in range(len(points)):\n",
    "        # get the assigned centroid for each point\n",
    "        centroid = centroids[assignments[i]]\n",
    "        # computer the error, compute the distance between point and its nearest centroid\n",
    "        error = np.linalg.norm(np.array(points[i]) - np.array(centroid))\n",
    "        errors.append(pow(error, 2))\n",
    "    sse = sum(errors)\n",
    "    return sse\n",
    "        \n",
    "        "
   ]
  },
  {
   "cell_type": "code",
   "execution_count": 15,
   "id": "502139e4-3d52-47b8-9ed4-66c5f7b2200a",
   "metadata": {},
   "outputs": [],
   "source": [
    "def kmeans_clustering(all_vals,K,max_iter = 100, tol = pow(10,-3) ):\n",
    "    it = -1\n",
    "    all_sse = []\n",
    "    assignments = []\n",
    "    \n",
    "    #Place K centroids at random locations\n",
    "    centroids = place_centroids(all_vals, K)\n",
    "\n",
    "   \n",
    "    #Until algorithm converges\n",
    "    while (len(all_sse)<=1 or (it < max_iter and np.absolute(all_sse[it] - all_sse[it-1])/all_sse[it-1] >= tol)):\n",
    "        it += 1\n",
    "        #Assign all data points to the closest center\n",
    "        assignments = assign_cetroids(all_vals, centroids)\n",
    "        \n",
    "        #Compute the new centroids\n",
    "        centroids = update_centroids(all_vals, centroids, assignments, K)\n",
    "        \n",
    "        #Compute SSE\n",
    "        sse_kmeans = cal_sse(all_vals, assignments, centroids)\n",
    "        all_sse.append(sse_kmeans)        \n",
    "        \n",
    "     \n",
    "    return (assignments, centroids, all_sse, it)\n",
    "        "
   ]
  },
  {
   "cell_type": "code",
   "execution_count": 16,
   "id": "f1a3910e-e437-48e1-9013-89101d670ab0",
   "metadata": {},
   "outputs": [],
   "source": [
    "result = kmeans_clustering(points,K=3)"
   ]
  },
  {
   "cell_type": "code",
   "execution_count": 17,
   "id": "39a2333f-c1bd-4b35-afcf-ac1b4e83536c",
   "metadata": {},
   "outputs": [],
   "source": [
    "centroids_x = [result[1][x][0] for x in range(len(result[1]))] #sepal_length: [0] \n",
    "centroids_y = [result[1][x][2] for x in range(len(result[1]))] #petal_length: [2]"
   ]
  },
  {
   "cell_type": "code",
   "execution_count": 18,
   "id": "5aae56cd-b016-428e-b9be-432dc794eacc",
   "metadata": {},
   "outputs": [],
   "source": [
    "x = df['sepal length (cm)'].values.tolist()\n",
    "y = df['petal length (cm)'].values.tolist()\n",
    "assignments = result[0]"
   ]
  },
  {
   "cell_type": "code",
   "execution_count": 19,
   "id": "9914955c-34a3-452c-9ee4-bc1d41b3760f",
   "metadata": {},
   "outputs": [
    {
     "ename": "NameError",
     "evalue": "name 'plt' is not defined",
     "output_type": "error",
     "traceback": [
      "\u001b[0;31m---------------------------------------------------------------------------\u001b[0m",
      "\u001b[0;31mNameError\u001b[0m                                 Traceback (most recent call last)",
      "Cell \u001b[0;32mIn[19], line 1\u001b[0m\n\u001b[0;32m----> 1\u001b[0m \u001b[43mplt\u001b[49m\u001b[38;5;241m.\u001b[39mscatter(x, y, c\u001b[38;5;241m=\u001b[39m assignments)\n\u001b[1;32m      2\u001b[0m plt\u001b[38;5;241m.\u001b[39mplot(centroids_x, centroids_y, c\u001b[38;5;241m=\u001b[39m\u001b[38;5;124m'\u001b[39m\u001b[38;5;124mwhite\u001b[39m\u001b[38;5;124m'\u001b[39m, marker\u001b[38;5;241m=\u001b[39m\u001b[38;5;124m'\u001b[39m\u001b[38;5;124m.\u001b[39m\u001b[38;5;124m'\u001b[39m, linewidth\u001b[38;5;241m=\u001b[39m\u001b[38;5;124m'\u001b[39m\u001b[38;5;124m0.01\u001b[39m\u001b[38;5;124m'\u001b[39m, markerfacecolor\u001b[38;5;241m=\u001b[39m\u001b[38;5;124m'\u001b[39m\u001b[38;5;124mred\u001b[39m\u001b[38;5;124m'\u001b[39m, markersize\u001b[38;5;241m=\u001b[39m\u001b[38;5;241m22\u001b[39m)\n\u001b[1;32m      3\u001b[0m plt\u001b[38;5;241m.\u001b[39mtitle(\u001b[38;5;124m\"\u001b[39m\u001b[38;5;124mK-means Visualization\u001b[39m\u001b[38;5;124m\"\u001b[39m)\n",
      "\u001b[0;31mNameError\u001b[0m: name 'plt' is not defined"
     ]
    }
   ],
   "source": [
    "plt.scatter(x, y, c= assignments)\n",
    "plt.plot(centroids_x, centroids_y, c='white', marker='.', linewidth='0.01', markerfacecolor='red', markersize=22)\n",
    "plt.title(\"K-means Visualization\")\n",
    "plt.xlabel(\"sepal_length\")\n",
    "plt.ylabel(\"petal_length\")"
   ]
  },
  {
   "cell_type": "code",
   "execution_count": null,
   "id": "d210233f-963a-4d19-9313-d5562a6008e4",
   "metadata": {},
   "outputs": [],
   "source": []
  },
  {
   "cell_type": "code",
   "execution_count": null,
   "id": "2a9f037e-5678-450b-bd3d-4e4bd4d72027",
   "metadata": {},
   "outputs": [],
   "source": []
  },
  {
   "cell_type": "code",
   "execution_count": null,
   "id": "49583e50-ec07-456d-b7bd-0be65addf4fe",
   "metadata": {},
   "outputs": [],
   "source": []
  },
  {
   "cell_type": "code",
   "execution_count": null,
   "id": "8708ffde-73de-4cf6-84e9-70c7214bcf82",
   "metadata": {},
   "outputs": [],
   "source": []
  },
  {
   "cell_type": "code",
   "execution_count": null,
   "id": "60a83e6e-6d29-47e4-b898-dfe86f84fc77",
   "metadata": {},
   "outputs": [],
   "source": []
  },
  {
   "cell_type": "code",
   "execution_count": null,
   "id": "c7d360b8-5c9e-478d-bc60-dc1fb8302431",
   "metadata": {},
   "outputs": [],
   "source": []
  },
  {
   "cell_type": "code",
   "execution_count": null,
   "id": "cd778abf-3f9b-44a4-b88e-0c60f8a7b73d",
   "metadata": {},
   "outputs": [],
   "source": []
  },
  {
   "cell_type": "code",
   "execution_count": null,
   "id": "1fd19a2c-0f75-4a1d-bd46-3613a444c314",
   "metadata": {},
   "outputs": [],
   "source": []
  },
  {
   "cell_type": "code",
   "execution_count": null,
   "id": "d0646c1c-6f5e-4156-9551-a22b3e67896c",
   "metadata": {},
   "outputs": [],
   "source": []
  }
 ],
 "metadata": {
  "kernelspec": {
   "display_name": "Python 3 (ipykernel)",
   "language": "python",
   "name": "python3"
  },
  "language_info": {
   "codemirror_mode": {
    "name": "ipython",
    "version": 3
   },
   "file_extension": ".py",
   "mimetype": "text/x-python",
   "name": "python",
   "nbconvert_exporter": "python",
   "pygments_lexer": "ipython3",
   "version": "3.11.5"
  }
 },
 "nbformat": 4,
 "nbformat_minor": 5
}
