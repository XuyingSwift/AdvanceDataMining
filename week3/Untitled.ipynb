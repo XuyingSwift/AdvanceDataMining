{
 "cells": [
  {
   "cell_type": "code",
   "execution_count": 6,
   "id": "1d1c0a4e-3612-461c-992d-b46111c48a64",
   "metadata": {},
   "outputs": [],
   "source": [
    "import numpy as np"
   ]
  },
  {
   "cell_type": "code",
   "execution_count": 7,
   "id": "b5e59eab-fb6e-4ad6-9024-90ea4dbdf1ca",
   "metadata": {},
   "outputs": [],
   "source": [
    "D = np.array([[0.2, 2], [0.3, 4], [0.5, -1], [0.7, 6]])"
   ]
  },
  {
   "cell_type": "code",
   "execution_count": 9,
   "id": "fb2692bc-38e5-48d4-8f13-bf86e59c939e",
   "metadata": {},
   "outputs": [
    {
     "name": "stdout",
     "output_type": "stream",
     "text": [
      "Covariance matrix of x:\n",
      " [[ 1.62   3.33  -1.35   4.77 ]\n",
      " [ 3.33   6.845 -2.775  9.805]\n",
      " [-1.35  -2.775  1.125 -3.975]\n",
      " [ 4.77   9.805 -3.975 14.045]]\n"
     ]
    }
   ],
   "source": [
    "\n",
    "print(\"Covariance matrix of x:\\n\", np.cov(D))"
   ]
  },
  {
   "cell_type": "code",
   "execution_count": 10,
   "id": "dc7faa41-841e-401d-816f-f3615f972e13",
   "metadata": {},
   "outputs": [],
   "source": [
    "def covariance(x, y):\n",
    "    # Finding the mean of the series x and y\n",
    "    mean_x = sum(x)/float(len(x))\n",
    "    mean_y = sum(y)/float(len(y))\n",
    "    # Subtracting mean from the individual elements\n",
    "    sub_x = [i - mean_x for i in x]\n",
    "    sub_y = [i - mean_y for i in y]\n",
    "    numerator = sum([sub_x[i]*sub_y[i] for i in range(len(sub_x))])\n",
    "    denominator = len(x)-1\n",
    "    cov = numerator/denominator\n",
    "    return cov"
   ]
  },
  {
   "cell_type": "code",
   "execution_count": 11,
   "id": "cbb6f2ed-e1b8-4669-b81b-0eaa0e832245",
   "metadata": {},
   "outputs": [],
   "source": [
    "x = [0.2, 0.3, 0.5, 0.7]"
   ]
  },
  {
   "cell_type": "code",
   "execution_count": 12,
   "id": "9ae7b663-9cae-4efc-a948-9411a4f8772d",
   "metadata": {},
   "outputs": [],
   "source": [
    "y = [2, 4, -1, 6]"
   ]
  },
  {
   "cell_type": "code",
   "execution_count": 13,
   "id": "282174df-b8ad-4903-9773-dfae092df00e",
   "metadata": {},
   "outputs": [
    {
     "data": {
      "text/plain": [
       "0.2083333333333333"
      ]
     },
     "execution_count": 13,
     "metadata": {},
     "output_type": "execute_result"
    }
   ],
   "source": [
    "covariance(x, y)"
   ]
  },
  {
   "cell_type": "code",
   "execution_count": 15,
   "id": "ada8218b-6856-451f-ad72-307c01376cc9",
   "metadata": {},
   "outputs": [],
   "source": [
    "a = np.array([1,-1,-2,4])"
   ]
  },
  {
   "cell_type": "code",
   "execution_count": 16,
   "id": "f35d858e-c8f4-4886-8bd1-75480b0b1ad6",
   "metadata": {},
   "outputs": [
    {
     "data": {
      "text/plain": [
       "array([ 1, -1, -2,  4])"
      ]
     },
     "execution_count": 16,
     "metadata": {},
     "output_type": "execute_result"
    }
   ],
   "source": [
    "np.transpose(a)"
   ]
  },
  {
   "cell_type": "code",
   "execution_count": 17,
   "id": "b31620e5-f42e-4232-9241-b94708f52430",
   "metadata": {},
   "outputs": [],
   "source": [
    "b = np.array([2,-1,-1,3])"
   ]
  },
  {
   "cell_type": "code",
   "execution_count": 18,
   "id": "bc66a32d-f80c-45b7-86da-81fe0cb3a3f4",
   "metadata": {},
   "outputs": [
    {
     "data": {
      "text/plain": [
       "17"
      ]
     },
     "execution_count": 18,
     "metadata": {},
     "output_type": "execute_result"
    }
   ],
   "source": [
    "np.dot(np.transpose(a), b)"
   ]
  },
  {
   "cell_type": "code",
   "execution_count": 20,
   "id": "a02669bd-7aa0-4fda-9016-9b4f4d29525c",
   "metadata": {},
   "outputs": [],
   "source": [
    "import math"
   ]
  },
  {
   "cell_type": "code",
   "execution_count": 21,
   "id": "34f83ddd-48eb-4427-be94-e689d1c0f4d1",
   "metadata": {},
   "outputs": [
    {
     "data": {
      "text/plain": [
       "1.7320508075688772"
      ]
     },
     "execution_count": 21,
     "metadata": {},
     "output_type": "execute_result"
    }
   ],
   "source": [
    "math.dist(a,b)"
   ]
  },
  {
   "cell_type": "code",
   "execution_count": 22,
   "id": "25363d3f-7982-46f5-b062-91ad7ef04d92",
   "metadata": {},
   "outputs": [],
   "source": [
    "x3 = [1.8, 0.5, 5.2, 3]"
   ]
  },
  {
   "cell_type": "code",
   "execution_count": 23,
   "id": "55322ae3-02c0-44a7-897a-9c22b7987f44",
   "metadata": {},
   "outputs": [],
   "source": [
    "x4 = [5.6, 0.8, 5.1, 1]"
   ]
  },
  {
   "cell_type": "code",
   "execution_count": 24,
   "id": "6555d01e-a4bd-46c0-b632-57fe98074058",
   "metadata": {},
   "outputs": [
    {
     "data": {
      "text/plain": [
       "4.305810028322197"
      ]
     },
     "execution_count": 24,
     "metadata": {},
     "output_type": "execute_result"
    }
   ],
   "source": [
    "math.dist(x3, x4)"
   ]
  },
  {
   "cell_type": "code",
   "execution_count": 25,
   "id": "eb1cb271-1b14-4d81-855c-16216d2d4e97",
   "metadata": {},
   "outputs": [],
   "source": [
    "str1 = \"ABCABCC\""
   ]
  },
  {
   "cell_type": "code",
   "execution_count": 26,
   "id": "accc7b71-b1a0-4f00-b661-fc621ca45e47",
   "metadata": {},
   "outputs": [],
   "source": [
    "str2 = \"HLLLHLH\""
   ]
  },
  {
   "cell_type": "code",
   "execution_count": 27,
   "id": "d885593e-75a7-4cad-a0bb-9494ce726486",
   "metadata": {},
   "outputs": [],
   "source": [
    "def hammingDist(str1, str2):\n",
    "    i = 0\n",
    "    count = 0\n",
    " \n",
    "    while(i < len(str1)):\n",
    "        if(str1[i] != str2[i]):\n",
    "            count += 1\n",
    "        i += 1\n",
    "    return count"
   ]
  },
  {
   "cell_type": "code",
   "execution_count": 28,
   "id": "22fd19ab-ec27-4189-b587-6b0f2fd9a372",
   "metadata": {},
   "outputs": [
    {
     "data": {
      "text/plain": [
       "7"
      ]
     },
     "execution_count": 28,
     "metadata": {},
     "output_type": "execute_result"
    }
   ],
   "source": [
    "hammingDist(str1, str2)"
   ]
  },
  {
   "cell_type": "code",
   "execution_count": 31,
   "id": "16e941ec-1c78-498c-80d6-5500e51f91d2",
   "metadata": {},
   "outputs": [],
   "source": [
    "import pandas as pd"
   ]
  },
  {
   "cell_type": "code",
   "execution_count": 32,
   "id": "5d95703a-7bb1-4761-bc4a-580893ae4505",
   "metadata": {},
   "outputs": [],
   "source": [
    "data = [[\"A\",\"H\"], [\"B\", \"L\"], [\"C\", \"L\"], [\"A\", \"L\"], [\"B\",\"H\"], [\"C\", \"L\"], [\"C\", \"H\"]]"
   ]
  },
  {
   "cell_type": "code",
   "execution_count": 50,
   "id": "f8353990-b8a6-45c3-bc9b-5aa42f7bb093",
   "metadata": {},
   "outputs": [
    {
     "data": {
      "text/html": [
       "<div>\n",
       "<style scoped>\n",
       "    .dataframe tbody tr th:only-of-type {\n",
       "        vertical-align: middle;\n",
       "    }\n",
       "\n",
       "    .dataframe tbody tr th {\n",
       "        vertical-align: top;\n",
       "    }\n",
       "\n",
       "    .dataframe thead th {\n",
       "        text-align: right;\n",
       "    }\n",
       "</style>\n",
       "<table border=\"1\" class=\"dataframe\">\n",
       "  <thead>\n",
       "    <tr style=\"text-align: right;\">\n",
       "      <th></th>\n",
       "      <th>X1</th>\n",
       "      <th>X2</th>\n",
       "    </tr>\n",
       "  </thead>\n",
       "  <tbody>\n",
       "    <tr>\n",
       "      <th>0</th>\n",
       "      <td>A</td>\n",
       "      <td>H</td>\n",
       "    </tr>\n",
       "    <tr>\n",
       "      <th>1</th>\n",
       "      <td>B</td>\n",
       "      <td>L</td>\n",
       "    </tr>\n",
       "    <tr>\n",
       "      <th>2</th>\n",
       "      <td>C</td>\n",
       "      <td>L</td>\n",
       "    </tr>\n",
       "    <tr>\n",
       "      <th>3</th>\n",
       "      <td>A</td>\n",
       "      <td>L</td>\n",
       "    </tr>\n",
       "    <tr>\n",
       "      <th>4</th>\n",
       "      <td>B</td>\n",
       "      <td>H</td>\n",
       "    </tr>\n",
       "    <tr>\n",
       "      <th>5</th>\n",
       "      <td>C</td>\n",
       "      <td>L</td>\n",
       "    </tr>\n",
       "    <tr>\n",
       "      <th>6</th>\n",
       "      <td>C</td>\n",
       "      <td>H</td>\n",
       "    </tr>\n",
       "  </tbody>\n",
       "</table>\n",
       "</div>"
      ],
      "text/plain": [
       "  X1 X2\n",
       "0  A  H\n",
       "1  B  L\n",
       "2  C  L\n",
       "3  A  L\n",
       "4  B  H\n",
       "5  C  L\n",
       "6  C  H"
      ]
     },
     "execution_count": 50,
     "metadata": {},
     "output_type": "execute_result"
    }
   ],
   "source": [
    "df = pd.DataFrame(data, columns=['X1', 'X2'])\n",
    "df"
   ]
  },
  {
   "cell_type": "code",
   "execution_count": 57,
   "id": "b8b3a3d2-f7d3-436d-8890-63b2457b5b60",
   "metadata": {},
   "outputs": [],
   "source": [
    "df['X1'] = df['X1'].astype('category')\n",
    "df['X1_new'] = df['X1'].cat.codes"
   ]
  },
  {
   "cell_type": "code",
   "execution_count": 58,
   "id": "14ad52b2-a551-4eb6-81e4-29f254b7c205",
   "metadata": {},
   "outputs": [],
   "source": [
    "df['X2'] = df['X2'].astype('category')\n",
    "# Assigning numerical values and storing it in another columns\n",
    "df['X2_new'] = df['X2'].cat.codes"
   ]
  },
  {
   "cell_type": "code",
   "execution_count": 78,
   "id": "fa6bf0b2-1de6-4479-9e18-2d30606bccb1",
   "metadata": {},
   "outputs": [],
   "source": [
    "from sklearn.preprocessing import OneHotEncoder\n"
   ]
  },
  {
   "cell_type": "code",
   "execution_count": 60,
   "id": "a40015e7-ef01-4661-9b77-d224e35c54ea",
   "metadata": {},
   "outputs": [],
   "source": [
    "# Create an instance of One-hot-encoder\n",
    "enc = OneHotEncoder()"
   ]
  },
  {
   "cell_type": "code",
   "execution_count": 66,
   "id": "1c2ce794-8dcd-4650-be07-289f37aa0240",
   "metadata": {},
   "outputs": [
    {
     "data": {
      "text/html": [
       "<div>\n",
       "<style scoped>\n",
       "    .dataframe tbody tr th:only-of-type {\n",
       "        vertical-align: middle;\n",
       "    }\n",
       "\n",
       "    .dataframe tbody tr th {\n",
       "        vertical-align: top;\n",
       "    }\n",
       "\n",
       "    .dataframe thead th {\n",
       "        text-align: right;\n",
       "    }\n",
       "</style>\n",
       "<table border=\"1\" class=\"dataframe\">\n",
       "  <thead>\n",
       "    <tr style=\"text-align: right;\">\n",
       "      <th></th>\n",
       "      <th>0</th>\n",
       "      <th>1</th>\n",
       "      <th>2</th>\n",
       "      <th>3</th>\n",
       "      <th>4</th>\n",
       "    </tr>\n",
       "  </thead>\n",
       "  <tbody>\n",
       "    <tr>\n",
       "      <th>0</th>\n",
       "      <td>1.0</td>\n",
       "      <td>0.0</td>\n",
       "      <td>0.0</td>\n",
       "      <td>1.0</td>\n",
       "      <td>0.0</td>\n",
       "    </tr>\n",
       "    <tr>\n",
       "      <th>1</th>\n",
       "      <td>0.0</td>\n",
       "      <td>1.0</td>\n",
       "      <td>0.0</td>\n",
       "      <td>0.0</td>\n",
       "      <td>1.0</td>\n",
       "    </tr>\n",
       "    <tr>\n",
       "      <th>2</th>\n",
       "      <td>0.0</td>\n",
       "      <td>0.0</td>\n",
       "      <td>1.0</td>\n",
       "      <td>0.0</td>\n",
       "      <td>1.0</td>\n",
       "    </tr>\n",
       "    <tr>\n",
       "      <th>3</th>\n",
       "      <td>1.0</td>\n",
       "      <td>0.0</td>\n",
       "      <td>0.0</td>\n",
       "      <td>0.0</td>\n",
       "      <td>1.0</td>\n",
       "    </tr>\n",
       "    <tr>\n",
       "      <th>4</th>\n",
       "      <td>0.0</td>\n",
       "      <td>1.0</td>\n",
       "      <td>0.0</td>\n",
       "      <td>1.0</td>\n",
       "      <td>0.0</td>\n",
       "    </tr>\n",
       "    <tr>\n",
       "      <th>5</th>\n",
       "      <td>0.0</td>\n",
       "      <td>0.0</td>\n",
       "      <td>1.0</td>\n",
       "      <td>0.0</td>\n",
       "      <td>1.0</td>\n",
       "    </tr>\n",
       "    <tr>\n",
       "      <th>6</th>\n",
       "      <td>0.0</td>\n",
       "      <td>0.0</td>\n",
       "      <td>1.0</td>\n",
       "      <td>1.0</td>\n",
       "      <td>0.0</td>\n",
       "    </tr>\n",
       "  </tbody>\n",
       "</table>\n",
       "</div>"
      ],
      "text/plain": [
       "     0    1    2    3    4\n",
       "0  1.0  0.0  0.0  1.0  0.0\n",
       "1  0.0  1.0  0.0  0.0  1.0\n",
       "2  0.0  0.0  1.0  0.0  1.0\n",
       "3  1.0  0.0  0.0  0.0  1.0\n",
       "4  0.0  1.0  0.0  1.0  0.0\n",
       "5  0.0  0.0  1.0  0.0  1.0\n",
       "6  0.0  0.0  1.0  1.0  0.0"
      ]
     },
     "execution_count": 66,
     "metadata": {},
     "output_type": "execute_result"
    }
   ],
   "source": [
    "  \n",
    "# Passing encoded columns\n",
    "enc_data = pd.DataFrame(enc.fit_transform(\n",
    "    df[['X1_new', 'X2_new']]).toarray())\n",
    "enc_data"
   ]
  },
  {
   "cell_type": "code",
   "execution_count": 64,
   "id": "55db5d70-5e93-496e-90e2-f86ae378c4e3",
   "metadata": {},
   "outputs": [
    {
     "name": "stdout",
     "output_type": "stream",
     "text": [
      "  X1 X2  X2_new  X1_new    0    1    2    3    4\n",
      "0  A  H       0       0  1.0  0.0  0.0  1.0  0.0\n",
      "1  B  L       1       1  0.0  1.0  0.0  0.0  1.0\n",
      "2  C  L       1       2  0.0  0.0  1.0  0.0  1.0\n",
      "3  A  L       1       0  1.0  0.0  0.0  0.0  1.0\n",
      "4  B  H       0       1  0.0  1.0  0.0  1.0  0.0\n",
      "5  C  L       1       2  0.0  0.0  1.0  0.0  1.0\n",
      "6  C  H       0       2  0.0  0.0  1.0  1.0  0.0\n"
     ]
    }
   ],
   "source": [
    "# Merge with main\n",
    "New_df = df.join(enc_data)\n",
    "  \n",
    "print(New_df)"
   ]
  },
  {
   "cell_type": "code",
   "execution_count": 67,
   "id": "1ac74f6c-2d6a-410a-8ed7-34b503627594",
   "metadata": {},
   "outputs": [
    {
     "data": {
      "text/plain": [
       "1.4142135623730951"
      ]
     },
     "execution_count": 67,
     "metadata": {},
     "output_type": "execute_result"
    }
   ],
   "source": [
    "math.dist(enc_data.iloc[5], enc_data.iloc[6])"
   ]
  },
  {
   "cell_type": "code",
   "execution_count": 70,
   "id": "2989b22d-c250-4aa7-84a7-fa3ed781c7b8",
   "metadata": {},
   "outputs": [],
   "source": [
    "x6 = np.array([1,2])\n",
    "x7 = np.array([0,2])"
   ]
  },
  {
   "cell_type": "code",
   "execution_count": 69,
   "id": "743eb946-433d-409b-a41f-cbb2b841a7f4",
   "metadata": {},
   "outputs": [],
   "source": [
    "from scipy.spatial.distance import hamming"
   ]
  },
  {
   "cell_type": "code",
   "execution_count": 71,
   "id": "bc04b160-cd5a-4857-9f34-d8a22b4a28ac",
   "metadata": {},
   "outputs": [
    {
     "data": {
      "text/plain": [
       "1.0"
      ]
     },
     "execution_count": 71,
     "metadata": {},
     "output_type": "execute_result"
    }
   ],
   "source": [
    "hamming(x6, x7) * len(x6)"
   ]
  },
  {
   "cell_type": "code",
   "execution_count": 72,
   "id": "97b36ad8-eb97-4eb3-acce-9f04567b9a22",
   "metadata": {},
   "outputs": [],
   "source": [
    "x6 = np.array([0.0, 0.0,  1.0,  0.0,  1.0])"
   ]
  },
  {
   "cell_type": "code",
   "execution_count": 73,
   "id": "5cd67dcd-b24c-44ce-b005-393e55954dd8",
   "metadata": {},
   "outputs": [],
   "source": [
    "x7 = np.array([0.0,  0.0,  1.0,  1.0,  0.0])"
   ]
  },
  {
   "cell_type": "code",
   "execution_count": 74,
   "id": "752897ec-24b1-42e1-8bce-1cf8e0845c43",
   "metadata": {},
   "outputs": [
    {
     "data": {
      "text/plain": [
       "2.0"
      ]
     },
     "execution_count": 74,
     "metadata": {},
     "output_type": "execute_result"
    }
   ],
   "source": [
    "hamming(x6, x7) * len(x6)"
   ]
  },
  {
   "cell_type": "code",
   "execution_count": 81,
   "id": "a83f7722-b3b6-4671-9f30-b691ea8ca0b3",
   "metadata": {},
   "outputs": [],
   "source": [
    "from sklearn.metrics import DistanceMetric as _DistanceMetric"
   ]
  },
  {
   "cell_type": "code",
   "execution_count": 82,
   "id": "1ca857e7-5eb1-42dd-b44b-e2c0fca66d2f",
   "metadata": {},
   "outputs": [],
   "source": [
    "df = pd.DataFrame([[0.2,23,5.7,'A'],[0.4,1,5.4,'B'],[1.8,0.5,5.2,'C'],[5.6,50,5.1,'A'],[-0.5,34,5.3,'B'],[0.4,19,5.4,'C'],[1.1,11,5.5,'C']])"
   ]
  },
  {
   "cell_type": "code",
   "execution_count": 83,
   "id": "1a97c068-3ee8-4392-9835-ab5ccf38a612",
   "metadata": {},
   "outputs": [
    {
     "data": {
      "text/html": [
       "<div>\n",
       "<style scoped>\n",
       "    .dataframe tbody tr th:only-of-type {\n",
       "        vertical-align: middle;\n",
       "    }\n",
       "\n",
       "    .dataframe tbody tr th {\n",
       "        vertical-align: top;\n",
       "    }\n",
       "\n",
       "    .dataframe thead th {\n",
       "        text-align: right;\n",
       "    }\n",
       "</style>\n",
       "<table border=\"1\" class=\"dataframe\">\n",
       "  <thead>\n",
       "    <tr style=\"text-align: right;\">\n",
       "      <th></th>\n",
       "      <th>0</th>\n",
       "      <th>1</th>\n",
       "      <th>2</th>\n",
       "      <th>3</th>\n",
       "    </tr>\n",
       "  </thead>\n",
       "  <tbody>\n",
       "    <tr>\n",
       "      <th>0</th>\n",
       "      <td>0.2</td>\n",
       "      <td>23.0</td>\n",
       "      <td>5.7</td>\n",
       "      <td>A</td>\n",
       "    </tr>\n",
       "    <tr>\n",
       "      <th>1</th>\n",
       "      <td>0.4</td>\n",
       "      <td>1.0</td>\n",
       "      <td>5.4</td>\n",
       "      <td>B</td>\n",
       "    </tr>\n",
       "    <tr>\n",
       "      <th>2</th>\n",
       "      <td>1.8</td>\n",
       "      <td>0.5</td>\n",
       "      <td>5.2</td>\n",
       "      <td>C</td>\n",
       "    </tr>\n",
       "    <tr>\n",
       "      <th>3</th>\n",
       "      <td>5.6</td>\n",
       "      <td>50.0</td>\n",
       "      <td>5.1</td>\n",
       "      <td>A</td>\n",
       "    </tr>\n",
       "    <tr>\n",
       "      <th>4</th>\n",
       "      <td>-0.5</td>\n",
       "      <td>34.0</td>\n",
       "      <td>5.3</td>\n",
       "      <td>B</td>\n",
       "    </tr>\n",
       "    <tr>\n",
       "      <th>5</th>\n",
       "      <td>0.4</td>\n",
       "      <td>19.0</td>\n",
       "      <td>5.4</td>\n",
       "      <td>C</td>\n",
       "    </tr>\n",
       "    <tr>\n",
       "      <th>6</th>\n",
       "      <td>1.1</td>\n",
       "      <td>11.0</td>\n",
       "      <td>5.5</td>\n",
       "      <td>C</td>\n",
       "    </tr>\n",
       "  </tbody>\n",
       "</table>\n",
       "</div>"
      ],
      "text/plain": [
       "     0     1    2  3\n",
       "0  0.2  23.0  5.7  A\n",
       "1  0.4   1.0  5.4  B\n",
       "2  1.8   0.5  5.2  C\n",
       "3  5.6  50.0  5.1  A\n",
       "4 -0.5  34.0  5.3  B\n",
       "5  0.4  19.0  5.4  C\n",
       "6  1.1  11.0  5.5  C"
      ]
     },
     "execution_count": 83,
     "metadata": {},
     "output_type": "execute_result"
    }
   ],
   "source": [
    "df"
   ]
  },
  {
   "cell_type": "code",
   "execution_count": 84,
   "id": "6b513cc6-8919-4664-97e1-4192d55f4a48",
   "metadata": {},
   "outputs": [],
   "source": [
    "df.columns = ['X1','X2','X3','X4']"
   ]
  },
  {
   "cell_type": "code",
   "execution_count": 85,
   "id": "f817aae8-e040-4642-979f-5236b218d54e",
   "metadata": {},
   "outputs": [
    {
     "data": {
      "text/html": [
       "<div>\n",
       "<style scoped>\n",
       "    .dataframe tbody tr th:only-of-type {\n",
       "        vertical-align: middle;\n",
       "    }\n",
       "\n",
       "    .dataframe tbody tr th {\n",
       "        vertical-align: top;\n",
       "    }\n",
       "\n",
       "    .dataframe thead th {\n",
       "        text-align: right;\n",
       "    }\n",
       "</style>\n",
       "<table border=\"1\" class=\"dataframe\">\n",
       "  <thead>\n",
       "    <tr style=\"text-align: right;\">\n",
       "      <th></th>\n",
       "      <th>X1</th>\n",
       "      <th>X2</th>\n",
       "      <th>X3</th>\n",
       "      <th>X4</th>\n",
       "    </tr>\n",
       "  </thead>\n",
       "  <tbody>\n",
       "    <tr>\n",
       "      <th>0</th>\n",
       "      <td>0.2</td>\n",
       "      <td>23.0</td>\n",
       "      <td>5.7</td>\n",
       "      <td>A</td>\n",
       "    </tr>\n",
       "    <tr>\n",
       "      <th>1</th>\n",
       "      <td>0.4</td>\n",
       "      <td>1.0</td>\n",
       "      <td>5.4</td>\n",
       "      <td>B</td>\n",
       "    </tr>\n",
       "    <tr>\n",
       "      <th>2</th>\n",
       "      <td>1.8</td>\n",
       "      <td>0.5</td>\n",
       "      <td>5.2</td>\n",
       "      <td>C</td>\n",
       "    </tr>\n",
       "    <tr>\n",
       "      <th>3</th>\n",
       "      <td>5.6</td>\n",
       "      <td>50.0</td>\n",
       "      <td>5.1</td>\n",
       "      <td>A</td>\n",
       "    </tr>\n",
       "    <tr>\n",
       "      <th>4</th>\n",
       "      <td>-0.5</td>\n",
       "      <td>34.0</td>\n",
       "      <td>5.3</td>\n",
       "      <td>B</td>\n",
       "    </tr>\n",
       "    <tr>\n",
       "      <th>5</th>\n",
       "      <td>0.4</td>\n",
       "      <td>19.0</td>\n",
       "      <td>5.4</td>\n",
       "      <td>C</td>\n",
       "    </tr>\n",
       "    <tr>\n",
       "      <th>6</th>\n",
       "      <td>1.1</td>\n",
       "      <td>11.0</td>\n",
       "      <td>5.5</td>\n",
       "      <td>C</td>\n",
       "    </tr>\n",
       "  </tbody>\n",
       "</table>\n",
       "</div>"
      ],
      "text/plain": [
       "    X1    X2   X3 X4\n",
       "0  0.2  23.0  5.7  A\n",
       "1  0.4   1.0  5.4  B\n",
       "2  1.8   0.5  5.2  C\n",
       "3  5.6  50.0  5.1  A\n",
       "4 -0.5  34.0  5.3  B\n",
       "5  0.4  19.0  5.4  C\n",
       "6  1.1  11.0  5.5  C"
      ]
     },
     "execution_count": 85,
     "metadata": {},
     "output_type": "execute_result"
    }
   ],
   "source": [
    "df"
   ]
  },
  {
   "cell_type": "code",
   "execution_count": 86,
   "id": "a9f010ca-7852-4550-83b7-ee6b1f023469",
   "metadata": {},
   "outputs": [],
   "source": [
    "s1 = _DistanceMetric.get_metric('manhattan').pairwise(df[['X1']])"
   ]
  },
  {
   "cell_type": "code",
   "execution_count": 88,
   "id": "ae472f77-6eda-4f9b-a402-3b3d563fb9fa",
   "metadata": {},
   "outputs": [
    {
     "data": {
      "text/plain": [
       "array([[0.        , 0.0053749 , 0.04299919, 0.14512228, 0.01881215,\n",
       "        0.0053749 , 0.02418705],\n",
       "       [0.0053749 , 0.        , 0.03762429, 0.13974738, 0.02418705,\n",
       "        0.        , 0.01881215],\n",
       "       [0.04299919, 0.03762429, 0.        , 0.10212309, 0.06181134,\n",
       "        0.03762429, 0.01881215],\n",
       "       [0.14512228, 0.13974738, 0.10212309, 0.        , 0.16393443,\n",
       "        0.13974738, 0.12093523],\n",
       "       [0.01881215, 0.02418705, 0.06181134, 0.16393443, 0.        ,\n",
       "        0.02418705, 0.04299919],\n",
       "       [0.0053749 , 0.        , 0.03762429, 0.13974738, 0.02418705,\n",
       "        0.        , 0.01881215],\n",
       "       [0.02418705, 0.01881215, 0.01881215, 0.12093523, 0.04299919,\n",
       "        0.01881215, 0.        ]])"
      ]
     },
     "execution_count": 88,
     "metadata": {},
     "output_type": "execute_result"
    }
   ],
   "source": [
    "s1 = s1/max(np.ptp(df['X1']),1)\n",
    "s1"
   ]
  },
  {
   "cell_type": "code",
   "execution_count": 91,
   "id": "59a9a468-9291-43d3-8801-14aca600e890",
   "metadata": {},
   "outputs": [
    {
     "data": {
      "text/plain": [
       "array([[0.        , 0.44444444, 0.45454545, 0.54545455, 0.22222222,\n",
       "        0.08080808, 0.24242424],\n",
       "       [0.44444444, 0.        , 0.01010101, 0.98989899, 0.66666667,\n",
       "        0.36363636, 0.2020202 ],\n",
       "       [0.45454545, 0.01010101, 0.        , 1.        , 0.67676768,\n",
       "        0.37373737, 0.21212121],\n",
       "       [0.54545455, 0.98989899, 1.        , 0.        , 0.32323232,\n",
       "        0.62626263, 0.78787879],\n",
       "       [0.22222222, 0.66666667, 0.67676768, 0.32323232, 0.        ,\n",
       "        0.3030303 , 0.46464646],\n",
       "       [0.08080808, 0.36363636, 0.37373737, 0.62626263, 0.3030303 ,\n",
       "        0.        , 0.16161616],\n",
       "       [0.24242424, 0.2020202 , 0.21212121, 0.78787879, 0.46464646,\n",
       "        0.16161616, 0.        ]])"
      ]
     },
     "execution_count": 91,
     "metadata": {},
     "output_type": "execute_result"
    }
   ],
   "source": [
    "s2 = _DistanceMetric.get_metric('manhattan').pairwise(df[['X2']])/max(np.ptp(df['X2']),1)\n",
    "s2"
   ]
  },
  {
   "cell_type": "code",
   "execution_count": 92,
   "id": "9e8e495d-85de-4a01-8816-c9bb1fbbe3bf",
   "metadata": {},
   "outputs": [],
   "source": [
    "s3 = _DistanceMetric.get_metric('manhattan').pairwise(df[['X3']])/max(np.ptp(df['X3']),1)"
   ]
  },
  {
   "cell_type": "code",
   "execution_count": 94,
   "id": "ba4dc2e0-3a98-424f-ab34-6610bc987c51",
   "metadata": {},
   "outputs": [
    {
     "name": "stdout",
     "output_type": "stream",
     "text": [
      "Collecting gower\n",
      "  Downloading gower-0.1.2-py3-none-any.whl (5.2 kB)\n",
      "Requirement already satisfied: numpy in /usr/local/lib/python3.11/site-packages (from gower) (1.25.2)\n",
      "Requirement already satisfied: scipy in /usr/local/lib/python3.11/site-packages (from gower) (1.11.2)\n",
      "Installing collected packages: gower\n",
      "Successfully installed gower-0.1.2\n",
      "Note: you may need to restart the kernel to use updated packages.\n"
     ]
    }
   ],
   "source": [
    "pip install gower"
   ]
  },
  {
   "cell_type": "code",
   "execution_count": 95,
   "id": "a21fc9e3-d0f3-440b-9e9d-e98e11031260",
   "metadata": {},
   "outputs": [
    {
     "ename": "NameError",
     "evalue": "name 'gower' is not defined",
     "output_type": "error",
     "traceback": [
      "\u001b[0;31m---------------------------------------------------------------------------\u001b[0m",
      "\u001b[0;31mNameError\u001b[0m                                 Traceback (most recent call last)",
      "Cell \u001b[0;32mIn[95], line 1\u001b[0m\n\u001b[0;32m----> 1\u001b[0m \u001b[43mgower\u001b[49m\u001b[38;5;241m.\u001b[39mgower_matrix(df)\n",
      "\u001b[0;31mNameError\u001b[0m: name 'gower' is not defined"
     ]
    }
   ],
   "source": [
    "gower.gower_matrix(df)"
   ]
  },
  {
   "cell_type": "code",
   "execution_count": 96,
   "id": "3bfde521-458c-4838-8847-a50a5766af93",
   "metadata": {},
   "outputs": [
    {
     "data": {
      "text/plain": [
       "array([[0.        , 0.49430782, 0.63754344, 0.6076751 , 0.5009107 ,\n",
       "        0.40339872, 0.43082464],\n",
       "       [0.49430782, 0.        , 0.39323562, 0.83558947, 0.24521858,\n",
       "        0.3409091 , 0.37086025],\n",
       "       [0.63754344, 0.39323562, 0.        , 0.6974044 , 0.5551209 ,\n",
       "        0.23414472, 0.20671882],\n",
       "       [0.6076751 , 0.83558947, 0.6974044 , 0.        , 0.6641414 ,\n",
       "        0.7446804 , 0.79806256],\n",
       "       [0.5009107 , 0.24521858, 0.5551209 , 0.6641414 , 0.        ,\n",
       "        0.40430948, 0.5150687 ],\n",
       "       [0.40339872, 0.3409091 , 0.23414472, 0.7446804 , 0.40430948,\n",
       "        0.        , 0.11075923],\n",
       "       [0.43082464, 0.37086025, 0.20671882, 0.79806256, 0.5150687 ,\n",
       "        0.11075923, 0.        ]], dtype=float32)"
      ]
     },
     "execution_count": 96,
     "metadata": {},
     "output_type": "execute_result"
    }
   ],
   "source": [
    "import gower\n",
    "gower.gower_matrix(df)"
   ]
  },
  {
   "cell_type": "code",
   "execution_count": 97,
   "id": "5c3bf295-611d-4e07-802b-3911452e0ba7",
   "metadata": {},
   "outputs": [],
   "source": [
    "# Gower's distance can be used to measure how different two records are. The records may contain combinations of logical, numerical, categorical or text data. The distance is always a number between 0 (identical) and 1 (maximally dis- similar)."
   ]
  },
  {
   "cell_type": "code",
   "execution_count": null,
   "id": "4147d8a4-bc87-49d3-a08c-a8244589ed97",
   "metadata": {},
   "outputs": [],
   "source": [
    "# Jaccard Similarity value ranges from 0 to 1. The higher the number, the more similar are the datasets with each other."
   ]
  }
 ],
 "metadata": {
  "kernelspec": {
   "display_name": "Python 3 (ipykernel)",
   "language": "python",
   "name": "python3"
  },
  "language_info": {
   "codemirror_mode": {
    "name": "ipython",
    "version": 3
   },
   "file_extension": ".py",
   "mimetype": "text/x-python",
   "name": "python",
   "nbconvert_exporter": "python",
   "pygments_lexer": "ipython3",
   "version": "3.11.5"
  }
 },
 "nbformat": 4,
 "nbformat_minor": 5
}
