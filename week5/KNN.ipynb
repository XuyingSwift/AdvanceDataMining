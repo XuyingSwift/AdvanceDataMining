{
 "cells": [
  {
   "cell_type": "code",
   "execution_count": 1,
   "id": "4a3efc89-23c6-405d-9373-ddf63bd5ac24",
   "metadata": {},
   "outputs": [],
   "source": [
    "# implement KNN from scratch "
   ]
  },
  {
   "cell_type": "code",
   "execution_count": 4,
   "id": "b4033b74-fcf8-46c0-8a51-191d52a8c5be",
   "metadata": {},
   "outputs": [],
   "source": [
    "import numpy as np\n",
    "import pandas as pd\n",
    "from sklearn.model_selection import train_test_split\n",
    "from collections import Counter\n",
    "import sklearn.datasets"
   ]
  },
  {
   "cell_type": "code",
   "execution_count": 5,
   "id": "aefc0837-db4b-49bd-aab5-bbcfde27e5d7",
   "metadata": {},
   "outputs": [],
   "source": [
    "data_name = ['sepal_length', 'sepal_width', 'petal_length', 'petal_width', 'label']"
   ]
  },
  {
   "cell_type": "code",
   "execution_count": 8,
   "id": "b433fed5-8021-4c20-82fc-2a969a4853ab",
   "metadata": {},
   "outputs": [],
   "source": [
    "data = pd.read_csv('iris.data', names = data_name)"
   ]
  },
  {
   "cell_type": "code",
   "execution_count": 11,
   "id": "c91cbe18-aec3-4b3a-813e-11521ffb51a8",
   "metadata": {},
   "outputs": [],
   "source": [
    "all_vals = data[['sepal_length', 'sepal_width', 'petal_length', 'petal_width']].values\n",
    "all_labels = data['label'].values"
   ]
  },
  {
   "cell_type": "code",
   "execution_count": 12,
   "id": "a49fb58e-16de-4ac2-9dd0-700b0bd87d6b",
   "metadata": {},
   "outputs": [],
   "source": [
    "unique_labels = np.unique(all_labels)"
   ]
  },
  {
   "cell_type": "code",
   "execution_count": 16,
   "id": "b0808981-4ad2-44c6-9bb9-cbb1ea545526",
   "metadata": {},
   "outputs": [
    {
     "data": {
      "text/plain": [
       "array(['Iris-setosa', 'Iris-versicolor', 'Iris-virginica'], dtype=object)"
      ]
     },
     "execution_count": 16,
     "metadata": {},
     "output_type": "execute_result"
    }
   ],
   "source": [
    "unique_labels"
   ]
  },
  {
   "cell_type": "code",
   "execution_count": 17,
   "id": "d5aa43ed-cfea-4ba1-a60d-af6aa70b84b3",
   "metadata": {},
   "outputs": [],
   "source": [
    "# change the string labels to numbers\n",
    "new_labels = np.zeros(len(all_labels))"
   ]
  },
  {
   "cell_type": "code",
   "execution_count": 18,
   "id": "ac494596-3aa5-4e3e-88fc-668807160465",
   "metadata": {},
   "outputs": [],
   "source": [
    "for i in range(0, len(unique_labels)):\n",
    "    new_labels[all_labels == unique_labels[i]] = i\n",
    "all_labels = new_labels"
   ]
  },
  {
   "cell_type": "code",
   "execution_count": 25,
   "id": "f1e42309-a5e7-4621-91aa-8b2a18ad7796",
   "metadata": {},
   "outputs": [],
   "source": [
    "# split the dataset using scikit learn \n",
    "(training_data, test_data, training_labels, test_labels) = train_test_split(all_vals, all_labels, test_size=0.166)"
   ]
  },
  {
   "cell_type": "code",
   "execution_count": 26,
   "id": "e51f0239-30fd-4ca4-ac38-0eeca4657f40",
   "metadata": {},
   "outputs": [],
   "source": [
    "def knnclassify(test_data, training_data, training_labels, k=3):\n",
    "    #training_labels = [0, 1, 2] => ['Iris-setosa' 'Iris-versicolor' 'Iris-virginica']\n",
    "    \n",
    "    #contains the predicted label for each test data point\n",
    "    pred_labels=[]\n",
    "    \n",
    "    #for each test_data point\n",
    "    for i in range(len(test_data)):\n",
    "        distances = []\n",
    "            \n",
    "        #compute euclidean distance with all points of the training set\n",
    "        for j in range(len(training_data)):\n",
    "            euclidean_distance = np.linalg.norm(test_data[i]-training_data[j])\n",
    "            #Pair each distance with the training label of the training data point\n",
    "            distances.append([euclidean_distance, training_labels[j]]) \n",
    "                 \n",
    "        #sort pairs by distances to get the K nearest neighbor(s) at the top\n",
    "        distances.sort()\n",
    "        \n",
    "        #select number of k neighbors\n",
    "        k_nearests = distances[0:k]\n",
    "    \n",
    "        #Collect vote/class_label for each nearest neighbor (k=3 there are 3 votes) \n",
    "        votes = [k_nearest[1] for k_nearest in k_nearests]\n",
    "        \n",
    "        #Store the most_common vote for each test data point into class_label_result\n",
    "        class_label_result = Counter(votes).most_common()[0][0]\n",
    "    \n",
    "        #Append predicted label for the test data point into pred_labels\n",
    "        pred_labels.append(class_label_result)\n",
    "    \n",
    "    return pred_labels\n",
    "        "
   ]
  },
  {
   "cell_type": "code",
   "execution_count": 27,
   "id": "97b707fc-d862-41ac-9f8d-1cb4a389fd32",
   "metadata": {},
   "outputs": [],
   "source": [
    "pred_labels = knnclassify(test_data, training_data, training_labels)"
   ]
  },
  {
   "cell_type": "code",
   "execution_count": 28,
   "id": "a27d99eb-ffbc-470a-8002-88ea506f2c63",
   "metadata": {},
   "outputs": [
    {
     "data": {
      "text/plain": [
       "1.0"
      ]
     },
     "execution_count": 28,
     "metadata": {},
     "output_type": "execute_result"
    }
   ],
   "source": [
    "from sklearn.metrics import accuracy_score\n",
    "accuracy_score(y_true=test_labels, y_pred=pred_labels)"
   ]
  },
  {
   "cell_type": "code",
   "execution_count": null,
   "id": "ad6ef851-50ee-4e42-ae22-a9c8ca8ecd93",
   "metadata": {},
   "outputs": [],
   "source": []
  },
  {
   "cell_type": "code",
   "execution_count": null,
   "id": "d55358fa-78d7-446a-920d-5272823ac472",
   "metadata": {},
   "outputs": [],
   "source": []
  },
  {
   "cell_type": "code",
   "execution_count": null,
   "id": "65293afb-d36e-4d3c-be18-0b546701b15c",
   "metadata": {},
   "outputs": [],
   "source": []
  }
 ],
 "metadata": {
  "kernelspec": {
   "display_name": "Python 3 (ipykernel)",
   "language": "python",
   "name": "python3"
  },
  "language_info": {
   "codemirror_mode": {
    "name": "ipython",
    "version": 3
   },
   "file_extension": ".py",
   "mimetype": "text/x-python",
   "name": "python",
   "nbconvert_exporter": "python",
   "pygments_lexer": "ipython3",
   "version": "3.11.5"
  }
 },
 "nbformat": 4,
 "nbformat_minor": 5
}
