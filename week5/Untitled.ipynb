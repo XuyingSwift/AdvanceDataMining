{
 "cells": [
  {
   "cell_type": "code",
   "execution_count": 2,
   "id": "2af81674-5985-41b8-af03-d0bba3632197",
   "metadata": {},
   "outputs": [],
   "source": [
    "import numpy as np\n",
    "import pandas as pd\n",
    "import matplotlib as plt\n",
    "import seaborn as sb\n",
    "import random as rand\n",
    "from sklearn.model_selection import train_test_split"
   ]
  },
  {
   "cell_type": "code",
   "execution_count": 3,
   "id": "f528f89f-ac62-4282-91a1-543189daebe4",
   "metadata": {},
   "outputs": [],
   "source": [
    "data_name = ['sepal_length', 'sepal_width', 'petal_length', 'petal_width', 'label']\n",
    "data = pd.read_csv('iris.data', names = data_name)"
   ]
  },
  {
   "cell_type": "code",
   "execution_count": 4,
   "id": "b6a6e5f2-590e-4006-b663-2906a995e137",
   "metadata": {},
   "outputs": [],
   "source": [
    "all_vals = data.drop(columns=['label']).values.tolist()"
   ]
  },
  {
   "cell_type": "code",
   "execution_count": 9,
   "id": "9e1f998f-dc76-4684-9a80-f24716552124",
   "metadata": {},
   "outputs": [],
   "source": [
    "# Place K centroids at random locations\n",
    "# For each of the K clusters, compute the cluster centroid. \n",
    "# The kth cluster centroid is the vector of the p feature means for the observations in the kth cluster."
   ]
  },
  {
   "cell_type": "code",
   "execution_count": 10,
   "id": "14d62426-8353-42c9-9adc-e841c833557a",
   "metadata": {},
   "outputs": [],
   "source": [
    "def random_centroids(all_vals, k):\n",
    "    centroids = []\n",
    "    # place k centroids at random locations\n",
    "    for i in range(k):\n",
    "        centroid = all_vals.randint(0, 149)\n",
    "        centroids.append(centroid)\n",
    "    return centroids"
   ]
  },
  {
   "cell_type": "code",
   "execution_count": 11,
   "id": "57c4b99c-208f-4f50-bbdc-76cc8315137e",
   "metadata": {},
   "outputs": [],
   "source": [
    "# Assign all data points to the closest center"
   ]
  },
  {
   "cell_type": "code",
   "execution_count": 12,
   "id": "d54548a3-d1b0-48d0-8d1b-09c9d5980155",
   "metadata": {},
   "outputs": [],
   "source": [
    "def assign_cluster(all_vals, centroids):\n",
    "    assignments = []\n",
    "    for data_point in all_vals:\n",
    "        distances = []\n",
    "        for centroid in centroids:\n",
    "            ed = np.linalg.norm(np.array(data_point) - np.array(centroid))\n",
    "            distances.append(ed)\n",
    "        # Assign each observation to the cluster whose centroid is closest \n",
    "        # (where closest is defined using Euclidean distance).\n",
    "        assignment = np.argmin(distances)\n",
    "        assignments.append(assignment)\n",
    "    return assignments"
   ]
  },
  {
   "cell_type": "code",
   "execution_count": 13,
   "id": "a932c2ee-2cc7-47df-ab01-2744221470a3",
   "metadata": {},
   "outputs": [],
   "source": [
    "# computer new centroids"
   ]
  },
  {
   "cell_type": "code",
   "execution_count": 15,
   "id": "2879d4a8-e67e-4a18-811a-0bb0a3b4d8b4",
   "metadata": {},
   "outputs": [],
   "source": [
    "def new_centroids(all_vals, centroids, assignments, k):\n",
    "    new_centroids = []\n",
    "    for i in range(k):\n",
    "        pt_cluster = []\n",
    "        for x in range(len(all_vals)):\n",
    "            if assignments[x] == [i]:\n",
    "                pt_cluster.append(all_vals[x])\n",
    "        mean_c = np.mean(pc_cluster, axis = 0)\n",
    "        new_centroids.append(mean_c)\n",
    "    return new_centroids"
   ]
  },
  {
   "cell_type": "code",
   "execution_count": 17,
   "id": "e3364b07-cbb4-4820-a523-5f47360bf90a",
   "metadata": {},
   "outputs": [],
   "source": [
    "# compute SSE\n",
    "def sse(all_vals, assigments, centroids):\n",
    "    errors = []\n",
    "    for i in range(len(all_vals)):\n",
    "        # get assigned centroid for each datapoint\n",
    "        centroid = centroids[assigments[i]]\n",
    "        # compute the distance error between one point to its closest centroid\n",
    "        error = np.linalg.norm(np.array(all_vals[i]) - np.array(centroid))\n",
    "        # append error to the list of error\n",
    "        errors.append(error**2)\n",
    "    # add up the error\n",
    "    sse = sum(errors)\n",
    "    return sse"
   ]
  },
  {
   "cell_type": "code",
   "execution_count": 18,
   "id": "85be62bb-11a8-4c64-a340-7fe98f4120a9",
   "metadata": {},
   "outputs": [],
   "source": [
    "# given a set of assigned points to clusters, compute the new centroids for every cluster,\n",
    "# by taking the mean of all points assigned to the each cluster"
   ]
  },
  {
   "cell_type": "code",
   "execution_count": null,
   "id": "8e9662df-360e-457d-9c98-15eaaf4f8e1d",
   "metadata": {},
   "outputs": [],
   "source": [
    "def knn(all_vals, k, max_iter=100, tol=pow(10, -3)):\n",
    "    it = -1\n",
    "    all_sse = []\n",
    "    assingments = []\n",
    "    # place k centroids at random location\n",
    "    centroids = random_centroids(all_vals, k)\n",
    "\n",
    "    # until algorithm converges\n",
    "    while (len"
   ]
  },
  {
   "cell_type": "code",
   "execution_count": null,
   "id": "b6d3abbc-f37f-44c7-8e83-b1db7021c5bd",
   "metadata": {},
   "outputs": [],
   "source": []
  }
 ],
 "metadata": {
  "kernelspec": {
   "display_name": "Python 3 (ipykernel)",
   "language": "python",
   "name": "python3"
  },
  "language_info": {
   "codemirror_mode": {
    "name": "ipython",
    "version": 3
   },
   "file_extension": ".py",
   "mimetype": "text/x-python",
   "name": "python",
   "nbconvert_exporter": "python",
   "pygments_lexer": "ipython3",
   "version": "3.11.5"
  }
 },
 "nbformat": 4,
 "nbformat_minor": 5
}
